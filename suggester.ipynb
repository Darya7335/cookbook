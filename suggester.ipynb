{
 "cells": [
  {
   "cell_type": "code",
   "execution_count": 1,
   "metadata": {},
   "outputs": [
    {
     "name": "stdout",
     "output_type": "stream",
     "text": [
      "Populating the interactive namespace from numpy and matplotlib\n"
     ]
    }
   ],
   "source": [
    "import numpy as np\n",
    "import pandas as pd\n",
    "%pylab inline\n",
    "from flask import Flask, json, jsonify, render_template\n",
    "\n",
    "\n",
    "class TrieNode(object):\n",
    "  \n",
    "    def __init__(self, char: str):\n",
    "        self.char = char\n",
    "        self.children = []\n",
    "        self.word_finished = False\n",
    "        \n",
    "def add(root, word: str):\n",
    "    word = word.lower().replace('ё', 'е')  #lower- преобразует все символы в нижний регистр, replace меняет ё на е\n",
    "    node = root\n",
    "    for char in word:\n",
    "        found_in_child = False\n",
    "        for child in node.children:\n",
    "            if child.char == char:\n",
    "                node = child\n",
    "                found_in_child = True\n",
    "                break\n",
    "        if not found_in_child:\n",
    "            new_node = TrieNode(char)\n",
    "            node.children.append(new_node)\n",
    "            node = new_node\n",
    "    node.word_finished = True\n",
    "    \n",
    "def prefix_descent(root, prefix: str):\n",
    "    node = root\n",
    "    for char in prefix:\n",
    "        char_not_found = True\n",
    "        for child in node.children:\n",
    "            if child.char == char:\n",
    "                char_not_found = False\n",
    "                node = child\n",
    "                break\n",
    "        if char_not_found:\n",
    "            return False\n",
    "    return node\n",
    "\n",
    "\n",
    "def trie_print(node, string, level, list_of_strings):\n",
    "    if node.word_finished:\n",
    "        res_string = ''.join(string)\n",
    "        list_of_strings.append(res_string)\n",
    "    else:\n",
    "        for child in node.children:\n",
    "            string.insert(level, child.char)\n",
    "            trie_print(child, string.copy(), level+1, list_of_strings)\n",
    "            string.pop()\n",
    "\n",
    "\n",
    "def suggester(root, prefix):\n",
    "    prefix = prefix.lower()\n",
    "    node = prefix_descent(root, prefix)\n",
    "    list_of_strings = []\n",
    "    string = []\n",
    "    if type(node) == bool:\n",
    "        list_of_strings.append(prefix)\n",
    "    else:\n",
    "        trie_print(node, string, 0, list_of_strings)\n",
    "        for i in range(len(list_of_strings)):\n",
    "            list_of_strings[i] = prefix + list_of_strings[i]\n",
    "    return list_of_strings  \n",
    "\n",
    "def rating(root, word , number: int):\n",
    "    string = suggester(root, word)\n",
    "    sugg_data = pd.DataFrame(columns =  [\"name\", \"rating\"])\n",
    "    n = len(data)\n",
    "    i = 0\n",
    "    while i < n:\n",
    "        for s in string:\n",
    "            if data.at[i, 'name'] == s:\n",
    "                sugg_data = pd.DataFrame(np.array([[data.loc[i]['name'], data.loc[i]['rating']]]), columns=['name', 'rating']).append(sugg_data, ignore_index=True)\n",
    "        i += 1\n",
    "    sugg_data['rating'] = sugg_data['rating'].apply(lambda x: int(x))\n",
    "    sugg_data = sugg_data.sort_values(['rating'], ascending=[0])\n",
    "    sugg_data = sugg_data[:number]\n",
    "    #string = sugg_data['name']\n",
    "    return sugg_data['name']"
   ]
  },
  {
   "cell_type": "code",
   "execution_count": null,
   "metadata": {},
   "outputs": [],
   "source": [
    "data = pd.read_json('cook_dataset.json')\n",
    "data['name'] = data['name'].apply(lambda x: x.lower().replace('ё', 'е'))\n",
    "root = TrieNode('*')\n",
    "for i in data['name']:\n",
    "    add(root, i)"
   ]
  },
  {
   "cell_type": "code",
   "execution_count": null,
   "metadata": {},
   "outputs": [
    {
     "name": "stdout",
     "output_type": "stream",
     "text": [
      " * Serving Flask app \"__main__\" (lazy loading)\n",
      " * Environment: production\n",
      "   WARNING: Do not use the development server in a production environment.\n",
      "   Use a production WSGI server instead.\n",
      " * Debug mode: off\n"
     ]
    },
    {
     "name": "stderr",
     "output_type": "stream",
     "text": [
      " * Running on http://127.0.0.1:5000/ (Press CTRL+C to quit)\n",
      "127.0.0.1 - - [28/Nov/2018 10:50:29] \"GET / HTTP/1.1\" 200 -\n"
     ]
    }
   ],
   "source": [
    "\n",
    "\n",
    "app = Flask(__name__)\n",
    "app.config['JSON_AS_ASCII'] = False\n",
    "\n",
    "\n",
    "@app.route('/get_suggest/<prefix>', methods=['GET'])\n",
    "def suggestions(prefix):\n",
    "    suggest = rating(root, prefix, 10)\n",
    "    sug_string = ''\n",
    "    for i in suggest:\n",
    "        sug_string += i + '<br/>'\n",
    "       # json.dumps(sug_string[:-1])\n",
    "    return render_template('genres_page_descr.html')\n",
    "\n",
    "@app.route('/')\n",
    "def hello():\n",
    "    return render_template('start_page.html')\n",
    "\n",
    "\n",
    "\n",
    "if __name__ == \"__main__\":\n",
    "    app.run()\n",
    "\n"
   ]
  },
  {
   "cell_type": "code",
   "execution_count": null,
   "metadata": {},
   "outputs": [],
   "source": []
  },
  {
   "cell_type": "code",
   "execution_count": null,
   "metadata": {},
   "outputs": [],
   "source": []
  },
  {
   "cell_type": "code",
   "execution_count": null,
   "metadata": {},
   "outputs": [],
   "source": []
  }
 ],
 "metadata": {
  "kernelspec": {
   "display_name": "Python 3",
   "language": "python",
   "name": "python3"
  },
  "language_info": {
   "codemirror_mode": {
    "name": "ipython",
    "version": 3
   },
   "file_extension": ".py",
   "mimetype": "text/x-python",
   "name": "python",
   "nbconvert_exporter": "python",
   "pygments_lexer": "ipython3",
   "version": "3.6.6"
  }
 },
 "nbformat": 4,
 "nbformat_minor": 2
}
